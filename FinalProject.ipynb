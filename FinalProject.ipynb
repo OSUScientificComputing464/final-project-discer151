{
 "cells": [
  {
   "cell_type": "markdown",
   "metadata": {},
   "source": [
    "# Final Project"
   ]
  },
  {
   "cell_type": "markdown",
   "metadata": {},
   "source": [
    "The final class project is located on github at\n",
    "\n",
    "https://classroom.github.com/a/qP9GMlhd\n",
    "\n",
    "Deadline is Wednesday, December 5 at 2pm.\n",
    "\n",
    "Please submit your work as jupyter notebook (or possibly multiple jupyter notebooks) via github classroom. It is permissible to discuss your project with other students but your submitted work has to be your own. All modeling work should be accompanied by text describing and explaining the work and suitable figures.\n",
    "\n",
    "Only if you have problem with the github classrom submission is it permissible to submit via email. Please explain the difficulties you experienced with github classroom, so they can be avoided in the future."
   ]
  },
  {
   "cell_type": "markdown",
   "metadata": {},
   "source": [
    "## Predicting superconducting transition temperatures from material database."
   ]
  },
  {
   "cell_type": "markdown",
   "metadata": {},
   "source": [
    "### Background\n",
    "\n",
    "We will use materials data for superconducting materials to create machine learning models to predict the superconducting transition temperature of superconducting materials. We will not try to predict the potential of a material to be a superconductor, as this is a question that far exceeds the scope of this final class project.\n",
    "\n",
    "Your project should use as a guide the relevant sections of the paper \n",
    "**Machine learning modeling of superconducting critical temperature**\n",
    "by Stanev et al.\n",
    "\n",
    "* published: https://www.sciencedirect.com/science/article/pii/S0927025618304877\n",
    "* arXiv: https://arxiv.org/abs/1709.02727\n",
    "\n",
    "However, to simplify data collection, we will use the dataset described in the paper\n",
    "**A Data-Driven Statistical Model for Predicting the Critical Temperature of a Superconductor**\n",
    "by Kam Hamidieh \n",
    "\n",
    "* arXiv https://arxiv.org/abs/1803.10260\n",
    "* github https://github.com/khamidieh/predict_tc/blob/master/paper_3.pdf\n",
    "\n",
    "The dataset is available in the github project: https://github.com/khamidieh/predict_tc\n",
    "This dataset is based in part on the same sources as the Stanev paper but in its final form differs considerably in the choice of variables from the data used in the Stanev paper. Hence you should not expect identical results.\n"
   ]
  },
  {
   "cell_type": "code",
   "execution_count": 2,
   "metadata": {},
   "outputs": [],
   "source": [
    "import numpy as np\n",
    "import pandas as pd\n",
    "from matplotlib import pyplot as plt\n",
    "import math\n"
   ]
  },
  {
   "cell_type": "markdown",
   "metadata": {},
   "source": [
    "### Part 1 - Extract the dataset \n",
    "The Hamidieh dataset can be downloaded as part of a github project provided by the author: https://github.com/khamidieh/predict_tc .\n",
    "However the dataset is in a binary format that is not directly accessible from python. Follow the instructions in the github project to extract datafiles that can be imported into python. All software necessary software is available on the computers in Weniger 412.\n"
   ]
  },
  {
   "cell_type": "markdown",
   "metadata": {},
   "source": [
    "#### I extracted the data in R, and saved the elemental data as element_data.csv and the materials data as unique_m.csv."
   ]
  },
  {
   "cell_type": "markdown",
   "metadata": {},
   "source": [
    "\"avg_element_data.csv\" containes the weighted averaged characteristic values (from element_data.csv) for each material. Average values are calculated by multiplying the characteristic value (e.g. atomic radius) for each element by the proportion of that element in the material, then adding up all of those products. First column ('Material') contains the material index number. The remaining columns are the averaged values for each characteristic in the element_data.csv file."
   ]
  },
  {
   "cell_type": "code",
   "execution_count": 3,
   "metadata": {},
   "outputs": [],
   "source": [
    "elem_data = pd.read_csv('avg_element_data.csv')\n",
    "unique_data = pd.read_csv('unique_m.csv')\n",
    "\n",
    "elem_x = elem_data.columns[1:]\n",
    "elem_y = elem_data.columns[0]\n",
    "elem_names = elem_data.columns[0]\n",
    "\n",
    "unique_x = unique_data.columns[1:-2]\n",
    "unique_y = unique_data.columns[-2]\n",
    "unique_names = unique_data.columns[-1]"
   ]
  },
  {
   "cell_type": "markdown",
   "metadata": {},
   "source": [
    "# Left off Here... Creat HTC dataset"
   ]
  },
  {
   "cell_type": "code",
   "execution_count": 23,
   "metadata": {},
   "outputs": [
    {
     "name": "stdout",
     "output_type": "stream",
     "text": [
      "       Unnamed: 0    H  He   Li   Be    B    C    N     O     F  \\\n",
      "73             77  0.0   0  0.0  0.0  0.0  0.0  0.0  4.00  0.00   \n",
      "81             85  0.0   0  0.0  0.0  0.0  0.0  0.0  7.00  0.00   \n",
      "82             86  0.0   0  0.0  0.0  0.0  0.0  0.0  7.00  0.00   \n",
      "83             87  0.0   0  0.0  0.0  0.0  0.0  0.0  7.00  0.00   \n",
      "84             88  0.0   0  0.0  0.0  0.0  0.0  0.0  7.00  0.00   \n",
      "85             89  0.0   0  0.0  0.0  0.0  0.0  0.0  7.00  0.00   \n",
      "159           170  0.0   0  0.0  0.0  0.0  0.0  0.0  7.00  0.00   \n",
      "160           171  0.0   0  0.0  0.0  0.0  0.0  0.0  1.00  0.00   \n",
      "164           175  0.0   0  0.0  0.0  0.0  0.0  0.0  7.00  0.00   \n",
      "165           176  0.0   0  0.0  0.0  0.0  0.0  0.0  7.00  0.00   \n",
      "166           177  0.0   0  0.0  0.0  0.0  0.0  0.0  7.00  0.00   \n",
      "168           179  0.0   0  0.0  0.0  0.0  0.0  0.0  7.00  0.00   \n",
      "169           180  0.0   0  0.0  0.0  0.0  0.0  0.0  7.00  0.00   \n",
      "170           181  0.0   0  0.0  0.0  0.0  0.0  0.0  7.00  0.00   \n",
      "208           221  0.0   0  0.0  0.0  0.0  0.0  0.0  6.93  0.00   \n",
      "209           222  0.0   0  0.0  0.0  0.0  0.0  0.0  6.92  0.00   \n",
      "210           223  0.0   0  0.0  0.0  0.0  0.0  0.0  6.92  0.00   \n",
      "211           224  0.0   0  0.0  0.0  0.0  0.0  0.0  6.93  0.00   \n",
      "212           225  0.0   0  0.0  0.0  0.0  0.0  0.0  7.00  0.00   \n",
      "250           264  0.0   0  0.0  0.0  0.0  0.0  0.0  9.00  0.00   \n",
      "259           273  0.0   0  0.0  0.0  0.0  0.0  0.0  1.00  0.00   \n",
      "260           274  0.0   0  0.0  0.0  0.0  0.0  0.0  1.00  0.00   \n",
      "261           275  0.0   0  0.0  0.0  0.0  0.0  0.0  1.00  0.00   \n",
      "262           276  0.0   0  0.0  0.0  0.0  0.0  0.0  1.00  0.00   \n",
      "278           293  0.0   0  0.0  0.0  0.0  0.0  0.0  7.00  0.00   \n",
      "337           356  0.0   0  0.0  0.0  0.0  0.0  0.0  6.90  0.00   \n",
      "371           390  0.0   0  0.0  0.0  0.0  0.0  0.0  1.00  0.00   \n",
      "372           391  0.0   0  0.0  0.0  0.0  0.0  0.0  1.00  0.00   \n",
      "373           392  0.0   0  0.0  0.0  0.0  0.0  0.0  1.00  0.00   \n",
      "374           393  0.0   0  0.0  0.0  0.0  0.0  0.0  1.00  0.00   \n",
      "...           ...  ...  ..  ...  ...  ...  ...  ...   ...   ...   \n",
      "21194       24785  0.0   0  0.0  0.0  0.0  0.0  0.0  0.00  0.00   \n",
      "21195       24786  0.0   0  0.0  0.0  0.0  0.0  0.0  0.00  0.00   \n",
      "21196       24787  0.0   0  0.0  0.0  0.0  0.0  0.0  0.00  0.00   \n",
      "21197       24788  0.0   0  0.0  0.0  0.0  0.0  0.0  0.00  0.00   \n",
      "21198       24789  0.0   0  0.0  0.0  0.0  0.0  0.0  0.00  0.00   \n",
      "21199       24790  0.0   0  0.0  0.0  0.0  0.0  0.0  0.00  0.00   \n",
      "21200       24791  0.0   0  0.0  0.0  0.0  0.0  0.0  0.00  0.00   \n",
      "21201       24792  0.0   0  0.0  0.0  0.0  0.0  0.0  0.00  0.00   \n",
      "21202       24793  0.0   0  0.0  0.0  0.0  0.0  0.0  0.00  0.00   \n",
      "21204       24795  0.0   0  0.0  0.0  0.0  0.0  0.0  0.00  0.00   \n",
      "21208       24799  0.0   0  0.0  0.0  0.0  0.0  0.0  0.00  0.00   \n",
      "21209       24800  0.0   0  0.0  0.0  0.0  0.0  0.0  0.00  0.00   \n",
      "21210       24801  0.0   0  0.0  0.0  0.0  0.0  0.0  0.00  0.00   \n",
      "21211       24802  0.0   0  0.0  0.0  0.0  0.0  0.0  0.00  0.00   \n",
      "21212       24803  0.0   0  0.0  0.0  0.0  0.0  0.0  0.00  0.00   \n",
      "21227       24818  0.0   0  0.0  0.0  0.0  0.0  0.0  0.89  0.11   \n",
      "21228       24819  0.0   0  0.0  0.0  0.0  0.0  0.0  0.89  0.11   \n",
      "21229       24820  0.0   0  0.0  0.0  0.0  0.0  0.0  0.89  0.11   \n",
      "21230       24821  0.0   0  0.0  0.0  0.0  0.0  0.0  0.89  0.11   \n",
      "21231       24822  0.0   0  0.0  0.0  0.0  0.0  0.0  0.89  0.11   \n",
      "21232       24823  0.0   0  0.0  0.0  0.0  0.0  0.0  0.89  0.11   \n",
      "21233       24824  0.0   0  0.0  0.0  0.0  0.0  0.0  0.89  0.11   \n",
      "21234       24825  0.0   0  0.0  0.0  0.0  0.0  0.0  0.89  0.11   \n",
      "21235       24826  0.0   0  0.0  0.0  0.0  0.0  0.0  0.89  0.11   \n",
      "21236       24827  0.0   0  0.0  0.0  0.0  0.0  0.0  0.89  0.11   \n",
      "21237       24828  0.0   0  0.0  0.0  0.0  0.0  0.0  0.89  0.11   \n",
      "21238       24829  0.0   0  0.0  0.0  0.0  0.0  0.0  0.89  0.11   \n",
      "21239       24830  0.0   0  0.0  0.0  0.0  0.0  0.0  0.89  0.11   \n",
      "21258       24857  0.0   0  0.0  0.0  0.0  0.0  0.0  0.00  0.00   \n",
      "21262       24861  0.0   0  0.0  0.0  0.0  0.0  0.0  0.00  0.00   \n",
      "\n",
      "                         ...                      Au   Hg   Tl   Pb   Bi  Po  \\\n",
      "73                       ...                     0.0  0.0  0.0  0.0  0.0   0   \n",
      "81                       ...                     0.0  0.0  0.0  0.0  0.0   0   \n",
      "82                       ...                     0.0  0.0  0.0  0.0  0.0   0   \n",
      "83                       ...                     0.0  0.0  0.0  0.0  0.0   0   \n",
      "84                       ...                     0.0  0.0  0.0  0.0  0.0   0   \n",
      "85                       ...                     0.0  0.0  0.0  0.0  0.0   0   \n",
      "159                      ...                     0.0  0.0  0.0  0.0  0.0   0   \n",
      "160                      ...                     0.0  0.0  0.0  0.0  0.0   0   \n",
      "164                      ...                     0.0  0.0  0.0  0.0  0.0   0   \n",
      "165                      ...                     0.0  0.0  0.0  0.0  0.0   0   \n",
      "166                      ...                     0.0  0.0  0.0  0.0  0.0   0   \n",
      "168                      ...                     0.0  0.0  0.0  0.0  0.0   0   \n",
      "169                      ...                     0.0  0.0  0.0  0.0  0.0   0   \n",
      "170                      ...                     0.0  0.0  0.0  0.0  0.0   0   \n",
      "208                      ...                     0.0  0.0  0.0  0.0  0.0   0   \n",
      "209                      ...                     0.0  0.0  0.0  0.0  0.0   0   \n",
      "210                      ...                     0.0  0.0  0.0  0.0  0.0   0   \n",
      "211                      ...                     0.0  0.0  0.0  0.0  0.0   0   \n",
      "212                      ...                     0.0  0.0  0.0  0.0  0.0   0   \n",
      "250                      ...                     0.0  0.0  0.0  0.0  0.0   0   \n",
      "259                      ...                     0.0  0.0  0.0  0.0  0.0   0   \n",
      "260                      ...                     0.0  0.0  0.0  0.0  0.0   0   \n",
      "261                      ...                     0.0  0.0  0.0  0.0  0.0   0   \n",
      "262                      ...                     0.0  0.0  0.0  0.0  0.0   0   \n",
      "278                      ...                     0.0  0.0  0.0  0.0  0.0   0   \n",
      "337                      ...                     0.0  0.0  0.0  0.0  0.0   0   \n",
      "371                      ...                     0.0  0.0  0.0  0.0  0.0   0   \n",
      "372                      ...                     0.0  0.0  0.0  0.0  0.0   0   \n",
      "373                      ...                     0.0  0.0  0.0  0.0  0.0   0   \n",
      "374                      ...                     0.0  0.0  0.0  0.0  0.0   0   \n",
      "...                      ...                     ...  ...  ...  ...  ...  ..   \n",
      "21194                    ...                     0.0  0.0  0.0  0.0  0.0   0   \n",
      "21195                    ...                     0.0  0.0  0.0  0.0  0.0   0   \n",
      "21196                    ...                     0.0  0.0  0.0  0.0  0.0   0   \n",
      "21197                    ...                     0.0  0.0  0.0  0.0  0.0   0   \n",
      "21198                    ...                     0.0  0.0  0.0  0.0  0.0   0   \n",
      "21199                    ...                     0.0  0.0  0.0  0.0  0.0   0   \n",
      "21200                    ...                     0.0  0.0  0.0  0.0  0.0   0   \n",
      "21201                    ...                     0.0  0.0  0.0  0.0  0.0   0   \n",
      "21202                    ...                     0.0  0.0  0.0  0.0  0.0   0   \n",
      "21204                    ...                     0.0  0.0  0.0  0.0  0.0   0   \n",
      "21208                    ...                     0.0  0.0  0.0  0.0  0.0   0   \n",
      "21209                    ...                     0.0  0.0  0.0  0.0  0.0   0   \n",
      "21210                    ...                     0.0  0.0  0.0  0.0  0.0   0   \n",
      "21211                    ...                     0.0  0.0  0.0  0.0  0.0   0   \n",
      "21212                    ...                     0.0  0.0  0.0  0.0  0.0   0   \n",
      "21227                    ...                     0.0  0.0  0.0  0.0  0.0   0   \n",
      "21228                    ...                     0.0  0.0  0.0  0.0  0.0   0   \n",
      "21229                    ...                     0.0  0.0  0.0  0.0  0.0   0   \n",
      "21230                    ...                     0.0  0.0  0.0  0.0  0.0   0   \n",
      "21231                    ...                     0.0  0.0  0.0  0.0  0.0   0   \n",
      "21232                    ...                     0.0  0.0  0.0  0.0  0.0   0   \n",
      "21233                    ...                     0.0  0.0  0.0  0.0  0.0   0   \n",
      "21234                    ...                     0.0  0.0  0.0  0.0  0.0   0   \n",
      "21235                    ...                     0.0  0.0  0.0  0.0  0.0   0   \n",
      "21236                    ...                     0.0  0.0  0.0  0.0  0.0   0   \n",
      "21237                    ...                     0.0  0.0  0.0  0.0  0.0   0   \n",
      "21238                    ...                     0.0  0.0  0.0  0.0  0.0   0   \n",
      "21239                    ...                     0.0  0.0  0.0  0.0  0.0   0   \n",
      "21258                    ...                     0.0  0.0  0.0  0.0  0.0   0   \n",
      "21262                    ...                     0.0  0.0  0.0  0.0  0.0   0   \n",
      "\n",
      "       At  Rn  critical_temp                                  material  \n",
      "73      0   0          30.00                  Sr0.2La1.8Cu0.95Fe0.05O4  \n",
      "81      0   0          51.00                       Y1Ba2Cu2.85Fe0.15O7  \n",
      "82      0   0          33.00                         Y1Ba2Cu2.7Fe0.3O7  \n",
      "83      0   0          82.00                       Y1Ba2Cu2.97Fe0.03O7  \n",
      "84      0   0          60.00                       Y1Ba2Cu2.94Fe0.06O7  \n",
      "85      0   0          54.00                       Y1Ba2Cu2.88Fe0.12O7  \n",
      "159     0   0          57.00                     Y1Ba2Cu2.844Fe0.156O7  \n",
      "160     0   0          36.00                Y1.01Ba2.01Cu2.697Fe0.303O  \n",
      "164     0   0          50.00                       Y1Ba2Cu2.85Fe0.15O7  \n",
      "165     0   0          57.00                       Y1Ba2Cu2.85Fe0.15O7  \n",
      "166     0   0           4.00                         Y1Ba2Cu2.7Fe0.3O7  \n",
      "168     0   0          74.00                     Y1Ba2Cu2.955Fe0.045O7  \n",
      "169     0   0          59.00                     Y1Ba2Cu2.955Fe0.045O7  \n",
      "170     0   0          61.00                     Y1Ba2Cu2.895Fe0.105O7  \n",
      "208     0   0          91.80                    Y1Ba2Cu2.98Fe0.02O6.93  \n",
      "209     0   0          91.80                    Y1Ba2Cu2.95Fe0.05O6.92  \n",
      "210     0   0          76.00                      Y1Ba2Cu2.9Fe0.1O6.92  \n",
      "211     0   0          49.00                      Y1Ba2Cu2.8Fe0.2O6.93  \n",
      "212     0   0          31.00                         Y1Ba2Cu2.6Fe0.4O7  \n",
      "250     0   0          42.00                      Gd1Ba2Cu2.82Fe0.18O9  \n",
      "259     0   0          90.00                          Y1Ba2Cu2.9Fe0.1O  \n",
      "260     0   0          66.00                          Y1Ba2Cu2.8Fe0.2O  \n",
      "261     0   0          44.00                          Y1Ba2Cu2.7Fe0.3O  \n",
      "262     0   0          22.00                          Y1Ba2Cu2.6Fe0.4O  \n",
      "278     0   0          70.00                       Y1Ba2Cu2.88Fe0.12O7  \n",
      "337     0   0          41.00                      Gd1Ba2Cu2.7Fe0.3O6.9  \n",
      "371     0   0          64.00                     Gd1Ba2Cu2.925Fe0.075O  \n",
      "372     0   0          47.00                       Gd1Ba2Cu2.85Fe0.15O  \n",
      "373     0   0          33.00                     Gd1Ba2Cu2.775Fe0.225O  \n",
      "374     0   0          11.00                         Gd1Ba2Cu2.7Fe0.3O  \n",
      "...    ..  ..            ...                                       ...  \n",
      "21194   0   0          10.00                       Ba0.823K0.177Fe2As2  \n",
      "21195   0   0          15.00                       Ba0.805K0.195Fe2As2  \n",
      "21196   0   0          37.00                       Ba0.677K0.323Fe2As2  \n",
      "21197   0   0           8.00                         Ba0.83K0.17Fe2As2  \n",
      "21198   0   0          13.00                       Ba0.812K0.188Fe2As2  \n",
      "21199   0   0          17.00                       Ba0.797K0.203Fe2As2  \n",
      "21200   0   0          38.00                       Ba0.663K0.337Fe2As2  \n",
      "21201   0   0          12.00                       Ba0.816K0.184Fe2As2  \n",
      "21202   0   0          19.00                       Ba0.788K0.212Fe2As2  \n",
      "21204   0   0           2.11                                 Cs1Fe2As2  \n",
      "21208   0   0          13.90                    Na1Fe0.9875Co0.0125As1  \n",
      "21209   0   0          12.60                      Na1Fe0.985Co0.015As1  \n",
      "21210   0   0          15.80                    Na1Fe0.9825Co0.0175As1  \n",
      "21211   0   0          19.30                      Na1Fe0.981Co0.019As1  \n",
      "21212   0   0          15.70                      Na1Fe0.977Co0.023As1  \n",
      "21227   0   0          22.60        La1Fe0.99975Mn0.00025As1F0.11O0.89  \n",
      "21228   0   0          14.40        La1Fe0.99925Mn0.00075As1F0.11O0.89  \n",
      "21229   0   0           9.67            La1Fe0.999Mn0.001As1F0.11O0.89  \n",
      "21230   0   0          28.50      La0.8Y0.2Fe0.997Mn0.003As1F0.11O0.89  \n",
      "21231   0   0          22.70      La0.8Y0.2Fe0.992Mn0.008As1F0.11O0.89  \n",
      "21232   0   0          14.10        La0.8Y0.2Fe0.98Mn0.02As1F0.11O0.89  \n",
      "21233   0   0          10.10      La0.8Y0.2Fe0.975Mn0.025As1F0.11O0.89  \n",
      "21234   0   0           2.89  La0.995Y0.005Fe0.995Mn0.005As1F0.11O0.89  \n",
      "21235   0   0           7.50    La0.99Y0.01Fe0.995Mn0.005As1F0.11O0.89  \n",
      "21236   0   0          18.60    La0.95Y0.05Fe0.995Mn0.005As1F0.11O0.89  \n",
      "21237   0   0          24.10      La0.9Y0.1Fe0.995Mn0.005As1F0.11O0.89  \n",
      "21238   0   0          26.60      La0.8Y0.2Fe0.995Mn0.005As1F0.11O0.89  \n",
      "21239   0   0          27.90    La0.77Y0.23Fe0.995Mn0.005As1F0.11O0.89  \n",
      "21258   0   0           2.44                        Tm0.84Lu0.16Fe3Si5  \n",
      "21262   0   0          12.80                             Fe1Se0.2Te0.8  \n",
      "\n",
      "[2339 rows x 89 columns]\n"
     ]
    }
   ],
   "source": [
    "\n",
    "# low temperature dataset\n",
    "lowt_data = unique_data.loc[unique_data[unique_y] < 10]\n",
    "\n",
    "# Fe dataset\n",
    "fe_data = unique_data.loc[unique_data['Fe'] >0]\n",
    "\n",
    "print(fe_data)\n",
    "\n",
    "# High Temperature Dataset\n",
    "\n"
   ]
  },
  {
   "cell_type": "markdown",
   "metadata": {},
   "source": [
    "### Part 2 - Visualization and exploration of the data\n",
    "\n",
    "Explore and visualize the dataset. Answer  questions like:How many variables? How many entries? Which elements appear how often? Use the figures in the papers as a guide. At the minimum provide figures of super conducting transition temperature distribution in the dataset. Create seperate plots for entire dataset and the 3 classes of superconductors discussed in the Stanev paper:\n",
    "\n",
    "* $T_c<10K$. \n",
    "* Iron based super conductors, i.e. material composition contains $Fe$.\n",
    "* HTC superconductors, i.e material composition contains $Cu$ and $O$ in roughly a $1:2$ ration. Note, that for example $YBa_2Cu_4O_7$ is a HTC superconductor and $4:7$ is roughly $1:2$ in this context.\n",
    "\n",
    "\n"
   ]
  },
  {
   "cell_type": "code",
   "execution_count": null,
   "metadata": {},
   "outputs": [],
   "source": []
  },
  {
   "cell_type": "code",
   "execution_count": 11,
   "metadata": {
    "scrolled": false
   },
   "outputs": [
    {
     "data": {
      "image/png": "[encoded data removed]",
      "text/plain": [
       "<Figure size 864x576 with 1 Axes>"
      ]
     },
     "metadata": {},
     "output_type": "display_data"
    }
   ],
   "source": [
    "plt.figure(figsize=(12,8))\n",
    "plt.xlabel('Critical Temp', fontsize = 16)\n",
    "plt.ylabel('# Materials', fontsize = 16)\n",
    "txt = plt.hist(unique_data['critical_temp'], bins=100)"
   ]
  },
  {
   "cell_type": "code",
   "execution_count": 10,
   "metadata": {},
   "outputs": [
    {
     "data": {
      "image/png": "[encoded data removed]",
      "text/plain": [
       "<Figure size 576x1440 with 1 Axes>"
      ]
     },
     "metadata": {},
     "output_type": "display_data"
    }
   ],
   "source": [
    "elem_counts = []\n",
    "for elem in unique_x:\n",
    "    elem_counts.append(np.count_nonzero(unique_data[elem]))\n",
    "\n",
    "\n",
    "plt.figure(figsize=(8,20))\n",
    "plt.barh(np.arange(0,len(unique_x)),width=elem_counts)\n",
    "plt.yticks(np.arange(0,len(unique_x)),unique_x)\n",
    "txt = plt.title('# of materials containing each element', fontsize=20)"
   ]
  },
  {
   "cell_type": "code",
   "execution_count": null,
   "metadata": {},
   "outputs": [],
   "source": []
  },
  {
   "cell_type": "code",
   "execution_count": null,
   "metadata": {},
   "outputs": [],
   "source": []
  },
  {
   "cell_type": "markdown",
   "metadata": {},
   "source": [
    "### $T_c<10K$. "
   ]
  },
  {
   "cell_type": "code",
   "execution_count": null,
   "metadata": {},
   "outputs": [],
   "source": []
  },
  {
   "cell_type": "markdown",
   "metadata": {},
   "source": [
    "### Iron based super conductors"
   ]
  },
  {
   "cell_type": "code",
   "execution_count": null,
   "metadata": {},
   "outputs": [],
   "source": []
  },
  {
   "cell_type": "markdown",
   "metadata": {},
   "source": [
    "### HTC superconductors"
   ]
  },
  {
   "cell_type": "code",
   "execution_count": null,
   "metadata": {},
   "outputs": [],
   "source": []
  },
  {
   "cell_type": "markdown",
   "metadata": {},
   "source": [
    "### Part 3 - Dimensionality reduction\n",
    "\n",
    "Apply dimensionalty reduction (see project 3, for example principle component analysis (PCA)) to the dataset. What can you learn about the data? visualize your results.\n"
   ]
  },
  {
   "cell_type": "markdown",
   "metadata": {},
   "source": [
    "### Part 4 - Random Forests\n",
    "\n",
    "Follow the example of the Stanev paper and apply Random Forest machine learning models to the data to predict the superconducting transition temperature. Use standard techniques discussed in class such as training and test data and cross-validation.\n",
    "\n",
    "Consider both the entire dataset and the superconductor categories discussed in the Stanev paper (and listed in part 2) \n",
    "Discuss your models and use suitable graphs to document your work.\n",
    "\n",
    "What predictions does your model make for the potential superconducting materials listed in table 6 of the Hamidieh paper? \n"
   ]
  },
  {
   "cell_type": "code",
   "execution_count": null,
   "metadata": {},
   "outputs": [],
   "source": [
    "from sklearn.model_selection import train_test_split\n",
    "\n",
    "# split data into training and test set for cross validation\n",
    "def split(x_data,y_data):\n",
    "    x_training, x_test, y_training, y_test = train_test_split(x_data, y_data)\n",
    "    return x_training,y_training,x_test,y_test\n",
    "\n",
    "# train and test (with cross validation) over n iterations and return the average score.\n",
    "def rf_avgscore(train_data, n_iter):\n",
    "    scores = []\n",
    "    for i in range(n_iter):\n",
    "        rfc = RandomForestClassifier(n_estimators=100, max_depth=2, random_state=0)\n",
    "        rfc.fit(train_data[0],train_data[1])\n",
    "        scores.append(rfc.score(train_data[2],train_data[3]))\n",
    "    return np.mean(scores)\n",
    "\n",
    "# reduce dimensions of dataset\n",
    "def reduce_dim(method, n_components, x_data):\n",
    "    mth = method(n_components=n_components)\n",
    "    return mth.fit_transform(x_data)"
   ]
  },
  {
   "cell_type": "code",
   "execution_count": null,
   "metadata": {},
   "outputs": [],
   "source": [
    "from sklearn.ensemble import RandomForestClassifier\n",
    "scores = []\n",
    "\n",
    "train_data = split(x_data,y_data)\n",
    "score = rf_avgscore(train_data, 50)\n",
    "print('avg score: ', score)\n",
    "\n",
    "scores.append(score)"
   ]
  },
  {
   "cell_type": "markdown",
   "metadata": {},
   "source": [
    "### Part 5 - Other  machine learning models\n",
    "\n",
    "Apply and discuss another machine learning model (discussed in class or in the textbook) to the data. How does it compare to random forests? Why does it perform better (or worse) than random forests?\n"
   ]
  },
  {
   "cell_type": "code",
   "execution_count": null,
   "metadata": {},
   "outputs": [],
   "source": []
  }
 ],
 "metadata": {
  "kernelspec": {
   "display_name": "Python 3",
   "language": "python",
   "name": "python3"
  },
  "language_info": {
   "codemirror_mode": {
    "name": "ipython",
    "version": 3
   },
   "file_extension": ".py",
   "mimetype": "text/x-python",
   "name": "python",
   "nbconvert_exporter": "python",
   "pygments_lexer": "ipython3",
   "version": "3.6.5"
  }
 },
 "nbformat": 4,
 "nbformat_minor": 2
}
